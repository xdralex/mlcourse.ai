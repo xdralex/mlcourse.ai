{
 "cells": [
  {
   "cell_type": "markdown",
   "metadata": {},
   "source": [
    "<center>\n",
    "<img src=\"../../img/ods_stickers.jpg\">\n",
    "    \n",
    "## [mlcourse.ai](https://mlcourse.ai) – Open Machine Learning Course \n",
    "\n",
    "Authors: [Olga Daykhovskaya](https://www.linkedin.com/in/odaykhovskaya/), [Yury Kashnitskiy](https://yorko.github.io). This material is subject to the terms and conditions of the [Creative Commons CC BY-NC-SA 4.0](https://creativecommons.org/licenses/by-nc-sa/4.0/) license. Free use is permitted for any non-commercial purpose."
   ]
  },
  {
   "cell_type": "markdown",
   "metadata": {},
   "source": [
    "# <center>Assignment #7 (demo)\n",
    "## <center> Unupervised learning\n",
    "\n",
    "**Same assignment as a [Kaggle Kernel](https://www.kaggle.com/kashnitsky/a7-demo-unsupervised-learning) + [solution](https://www.kaggle.com/kashnitsky/a7-demo-unsupervised-learning-solution).**"
   ]
  },
  {
   "cell_type": "markdown",
   "metadata": {},
   "source": [
    "In this task, we will look at how data dimensionality reduction and clustering methods work. At the same time, we'll practice solving classification task again.\n",
    "\n",
    "We will work with the [Samsung Human Activity Recognition](https://archive.ics.uci.edu/ml/datasets/Human+Activity+Recognition+Using+Smartphones) dataset. Download the data [here](https://drive.google.com/file/d/14RukQ0ylM2GCdViUHBBjZ2imCaYcjlux/view?usp=sharing). The data comes from accelerometers and gyros of Samsung Galaxy S3 mobile phones ( you can find more info about the features using the link above), the type of activity of a person with a phone in his/her pocket is also known – whether he/she walked, stood, lay, sat or walked up or down the stairs.\n",
    "\n",
    "First, we pretend that the type of activity is unknown to us, and we will try to cluster people purely on the basis of available features. Then we solve the problem of determining the type of physical activity as a classification problem.\n",
    "\n",
    "Fill the code where needed (\"Your code is here\") and answer the questions in the [web form](https://docs.google.com/forms/d/1wBf5UoRndv6PpzIwYnM9f0ysoGa4Yqcqle-HBlBP5QQ/edit)."
   ]
  },
  {
   "cell_type": "code",
   "execution_count": 53,
   "metadata": {},
   "outputs": [],
   "source": [
    "import os\n",
    "import numpy as np\n",
    "import pandas as pd\n",
    "import seaborn as sns\n",
    "from tqdm import tqdm_notebook\n",
    "\n",
    "%matplotlib inline\n",
    "from matplotlib import pyplot as plt\n",
    "plt.style.use(['seaborn-darkgrid'])\n",
    "plt.rcParams['figure.figsize'] = (12, 9)\n",
    "plt.rcParams['font.family'] = 'DejaVu Sans'\n",
    "\n",
    "from sklearn import metrics\n",
    "from sklearn.cluster import KMeans, AgglomerativeClustering, SpectralClustering\n",
    "from sklearn.decomposition import PCA\n",
    "from sklearn.model_selection import GridSearchCV\n",
    "from sklearn.preprocessing import StandardScaler\n",
    "from sklearn.svm import LinearSVC\n",
    "\n",
    "RANDOM_STATE = 17"
   ]
  },
  {
   "cell_type": "code",
   "execution_count": 54,
   "metadata": {},
   "outputs": [],
   "source": [
    "PATH_TO_SAMSUNG_DATA = \"../../data/samsung_HAR\""
   ]
  },
  {
   "cell_type": "code",
   "execution_count": 55,
   "metadata": {},
   "outputs": [],
   "source": [
    "X_train = np.loadtxt(os.path.join(PATH_TO_SAMSUNG_DATA, \"samsung_train.txt\"))\n",
    "y_train = np.loadtxt(os.path.join(PATH_TO_SAMSUNG_DATA,\n",
    "                                  \"samsung_train_labels.txt\")).astype(int)\n",
    "\n",
    "X_test = np.loadtxt(os.path.join(PATH_TO_SAMSUNG_DATA, \"samsung_test.txt\"))\n",
    "y_test = np.loadtxt(os.path.join(PATH_TO_SAMSUNG_DATA,\n",
    "                                  \"samsung_test_labels.txt\")).astype(int)"
   ]
  },
  {
   "cell_type": "code",
   "execution_count": 56,
   "metadata": {},
   "outputs": [],
   "source": [
    "# Checking dimensions\n",
    "assert(X_train.shape == (7352, 561) and y_train.shape == (7352,))\n",
    "assert(X_test.shape == (2947, 561) and y_test.shape == (2947,))"
   ]
  },
  {
   "cell_type": "markdown",
   "metadata": {},
   "source": [
    "For clustering, we do not need a target vector, so we'll work with the combination of training and test samples. Merge `X_train` with `X_test`, and `y_train` with `y_test`."
   ]
  },
  {
   "cell_type": "code",
   "execution_count": 57,
   "metadata": {},
   "outputs": [],
   "source": [
    "X_train = pd.DataFrame(X_train)\n",
    "X_test = pd.DataFrame(X_test)\n",
    "\n",
    "y_train = pd.Series(y_train)\n",
    "y_test = pd.Series(y_test)"
   ]
  },
  {
   "cell_type": "code",
   "execution_count": 58,
   "metadata": {},
   "outputs": [],
   "source": [
    "X = pd.concat([X_train, X_test])\n",
    "y = pd.concat([y_train, y_test])"
   ]
  },
  {
   "cell_type": "markdown",
   "metadata": {},
   "source": [
    "Define the number of unique values of the labels of the target class."
   ]
  },
  {
   "cell_type": "code",
   "execution_count": 59,
   "metadata": {},
   "outputs": [
    {
     "data": {
      "text/plain": [
       "array([1, 2, 3, 4, 5, 6])"
      ]
     },
     "execution_count": 59,
     "metadata": {},
     "output_type": "execute_result"
    }
   ],
   "source": [
    "np.unique(y)"
   ]
  },
  {
   "cell_type": "code",
   "execution_count": 60,
   "metadata": {},
   "outputs": [],
   "source": [
    "n_classes = np.unique(y).size"
   ]
  },
  {
   "cell_type": "markdown",
   "metadata": {},
   "source": [
    "[These labels correspond to:](https://archive.ics.uci.edu/ml/machine-learning-databases/00240/UCI%20HAR%20Dataset.names)\n",
    "- 1 – walking\n",
    "- 2 – walking upstairs\n",
    "- 3 – walking downstairs\n",
    "- 4 – sitting\n",
    "- 5 – standing\n",
    "- 6 – laying down"
   ]
  },
  {
   "cell_type": "markdown",
   "metadata": {},
   "source": [
    "Scale the sample using `StandardScaler` with default parameters."
   ]
  },
  {
   "cell_type": "code",
   "execution_count": 61,
   "metadata": {},
   "outputs": [],
   "source": [
    "scaler = StandardScaler()\n",
    "X_scaled = scaler.fit_transform(X)"
   ]
  },
  {
   "cell_type": "markdown",
   "metadata": {},
   "source": [
    "Reduce the number of dimensions using PCA, leaving as many components as necessary to explain at least 90% of the variance of the original (scaled) data. Use the scaled dataset and fix `random_state` (RANDOM_STATE constant)."
   ]
  },
  {
   "cell_type": "code",
   "execution_count": 62,
   "metadata": {},
   "outputs": [],
   "source": [
    "pca = PCA(random_state=RANDOM_STATE)\n",
    "pca.fit(X_scaled)\n",
    "\n",
    "X_pca = pca.transform(X_scaled)"
   ]
  },
  {
   "cell_type": "markdown",
   "metadata": {},
   "source": [
    "**Question 1:** <br>\n",
    "What is the minimum number of principal components required to cover the 90% of the variance of the original (scaled) data?"
   ]
  },
  {
   "cell_type": "code",
   "execution_count": 63,
   "metadata": {},
   "outputs": [
    {
     "data": {
      "text/plain": [
       "array([5.07382210e-01, 6.23918578e-02, 2.69256386e-02, 2.45287097e-02,\n",
       "       1.88893566e-02, 1.63139540e-02, 1.41453324e-02, 1.21621062e-02,\n",
       "       9.85247564e-03, 9.49228193e-03, 8.58303631e-03, 8.09979908e-03,\n",
       "       7.65862670e-03, 6.76667617e-03, 6.30241618e-03, 6.15717733e-03,\n",
       "       5.95334955e-03, 5.77195494e-03, 5.63431287e-03, 5.40829854e-03,\n",
       "       5.18827870e-03, 5.02741666e-03, 4.73229478e-03, 4.63818462e-03,\n",
       "       4.46848418e-03, 4.39868265e-03, 4.16863053e-03, 4.00808602e-03,\n",
       "       3.89071892e-03, 3.81338573e-03, 3.66869737e-03, 3.64357439e-03,\n",
       "       3.49224522e-03, 3.46736068e-03, 3.35538910e-03, 3.29410516e-03,\n",
       "       3.23824350e-03, 3.00508156e-03, 2.94253973e-03, 2.90452465e-03,\n",
       "       2.75764996e-03, 2.69864104e-03, 2.64195735e-03, 2.58030269e-03,\n",
       "       2.55030824e-03, 2.47775822e-03, 2.45537494e-03, 2.38290353e-03,\n",
       "       2.35901952e-03, 2.32043684e-03, 2.28360307e-03, 2.19181663e-03,\n",
       "       2.12631367e-03, 2.09144562e-03, 2.03479658e-03, 2.01166715e-03,\n",
       "       1.98110752e-03, 1.94391328e-03, 1.92509135e-03, 1.89538994e-03,\n",
       "       1.86403243e-03, 1.82922763e-03, 1.80956476e-03, 1.76363934e-03,\n",
       "       1.74187844e-03, 1.71470865e-03, 1.71040693e-03, 1.67452576e-03,\n",
       "       1.63703284e-03, 1.61446353e-03, 1.60292531e-03, 1.56590535e-03,\n",
       "       1.50233317e-03, 1.48802553e-03, 1.48602007e-03, 1.44988876e-03,\n",
       "       1.44414568e-03, 1.42141941e-03, 1.40829941e-03, 1.37123460e-03,\n",
       "       1.33348657e-03, 1.32867950e-03, 1.31150268e-03, 1.28449161e-03,\n",
       "       1.27411499e-03, 1.24423950e-03, 1.21411076e-03, 1.20001632e-03,\n",
       "       1.19021841e-03, 1.15988726e-03, 1.13470778e-03, 1.11536103e-03,\n",
       "       1.10138770e-03, 1.08953391e-03, 1.07763588e-03, 1.05513477e-03,\n",
       "       1.02142924e-03, 1.01870321e-03, 9.97130053e-04, 9.85014091e-04,\n",
       "       9.61380450e-04, 9.39956095e-04, 9.38046816e-04, 9.19483841e-04,\n",
       "       9.06784398e-04, 8.90843672e-04, 8.84710295e-04, 8.68905446e-04,\n",
       "       8.64522765e-04, 8.48344040e-04, 8.34679363e-04, 8.21278175e-04,\n",
       "       7.96558309e-04, 7.79910436e-04, 7.74723030e-04, 7.56173051e-04,\n",
       "       7.39544859e-04, 7.35629352e-04, 7.24896212e-04, 6.95076432e-04,\n",
       "       6.84346945e-04, 6.77543154e-04, 6.64582656e-04, 6.51509021e-04,\n",
       "       6.48859692e-04, 6.36743281e-04, 6.26821565e-04, 6.09153511e-04,\n",
       "       6.00237733e-04, 5.93805110e-04, 5.84071301e-04, 5.75368683e-04,\n",
       "       5.61175511e-04, 5.51443529e-04, 5.46157022e-04, 5.37809536e-04,\n",
       "       5.29619573e-04, 5.25292411e-04, 5.18516593e-04, 5.09647543e-04,\n",
       "       4.91946442e-04, 4.86190321e-04, 4.82948271e-04, 4.78818642e-04,\n",
       "       4.68878964e-04, 4.64336245e-04, 4.51047211e-04, 4.46531936e-04,\n",
       "       4.39356259e-04, 4.36957361e-04, 4.28679715e-04, 4.17020770e-04,\n",
       "       4.11166834e-04, 4.10300909e-04, 4.04960712e-04, 3.99931893e-04,\n",
       "       3.95536629e-04, 3.91192117e-04, 3.82944436e-04, 3.80452662e-04,\n",
       "       3.70856032e-04, 3.61511689e-04, 3.57905772e-04, 3.55627945e-04,\n",
       "       3.42938712e-04, 3.41442007e-04, 3.31023997e-04, 3.07692912e-04,\n",
       "       3.06450600e-04, 2.98039179e-04, 2.83936480e-04, 2.72547523e-04,\n",
       "       2.65758508e-04, 2.57067493e-04, 2.49798665e-04, 2.44603942e-04,\n",
       "       2.40204225e-04, 2.38270119e-04, 2.27137393e-04, 2.20831832e-04,\n",
       "       2.17268118e-04, 2.14341880e-04, 2.11044311e-04, 2.09185996e-04,\n",
       "       1.95650090e-04, 1.93075421e-04, 1.87445623e-04, 1.81579355e-04,\n",
       "       1.79906850e-04, 1.75985901e-04, 1.69698770e-04, 1.61658791e-04,\n",
       "       1.59222110e-04, 1.58339855e-04, 1.51458194e-04, 1.50322020e-04,\n",
       "       1.49531776e-04, 1.44485555e-04, 1.34625223e-04, 1.32871680e-04,\n",
       "       1.28563020e-04, 1.25711948e-04, 1.21196404e-04, 1.18114172e-04,\n",
       "       1.16499739e-04, 1.11240346e-04, 1.10352257e-04, 1.07594711e-04,\n",
       "       1.06091730e-04, 1.02692684e-04, 1.00728215e-04, 9.88558596e-05,\n",
       "       9.64460207e-05, 9.39663584e-05, 9.25092357e-05, 9.19658341e-05,\n",
       "       9.10322740e-05, 9.03291657e-05, 8.87486988e-05, 8.62452703e-05,\n",
       "       8.54360467e-05, 8.28386650e-05, 8.22564585e-05, 8.14272478e-05,\n",
       "       7.95051026e-05, 7.79015536e-05, 7.68291477e-05, 7.51316564e-05,\n",
       "       7.37004960e-05, 7.26203768e-05, 7.14413902e-05, 7.13334102e-05,\n",
       "       6.95484339e-05, 6.91956554e-05, 6.72583845e-05, 6.60365053e-05,\n",
       "       6.51014408e-05, 6.42949971e-05, 6.36267671e-05, 6.20727770e-05,\n",
       "       6.11819342e-05, 6.01393391e-05, 5.92261060e-05, 5.86526765e-05,\n",
       "       5.68804125e-05, 5.61075742e-05, 5.53859317e-05, 5.47430408e-05,\n",
       "       5.40420932e-05, 5.29847252e-05, 4.98400999e-05, 4.92209411e-05,\n",
       "       4.85070708e-05, 4.76241505e-05, 4.75993778e-05, 4.54128290e-05,\n",
       "       4.49620906e-05, 4.44374168e-05, 4.37090238e-05, 4.29967309e-05,\n",
       "       4.28168247e-05, 4.09051430e-05, 4.06275975e-05, 3.95165869e-05,\n",
       "       3.88418191e-05, 3.82893915e-05, 3.78956772e-05, 3.69795407e-05,\n",
       "       3.59560559e-05, 3.52627168e-05, 3.49032394e-05, 3.46201891e-05,\n",
       "       3.38764613e-05, 3.31523909e-05, 3.26202978e-05, 3.17288145e-05,\n",
       "       3.14826674e-05, 3.09630990e-05, 3.05856465e-05, 2.95008531e-05,\n",
       "       2.91836419e-05, 2.89580046e-05, 2.85452895e-05, 2.80240964e-05,\n",
       "       2.76539221e-05, 2.74053210e-05, 2.71380124e-05, 2.62746456e-05,\n",
       "       2.59086450e-05, 2.54442439e-05, 2.50738089e-05, 2.46659100e-05,\n",
       "       2.40714385e-05, 2.39093586e-05, 2.32338630e-05, 2.31901141e-05,\n",
       "       2.29884491e-05, 2.26977204e-05, 2.23389457e-05, 2.17636207e-05,\n",
       "       2.13169614e-05, 2.10178688e-05, 2.06429116e-05, 2.05335131e-05,\n",
       "       2.02491090e-05, 1.98159564e-05, 1.94635482e-05, 1.92486223e-05,\n",
       "       1.89038221e-05, 1.85911538e-05, 1.82812976e-05, 1.80687998e-05,\n",
       "       1.75386745e-05, 1.74497495e-05, 1.70266197e-05, 1.68771110e-05,\n",
       "       1.67565966e-05, 1.65623846e-05, 1.61277317e-05, 1.60338527e-05,\n",
       "       1.57606643e-05, 1.55229404e-05, 1.50368392e-05, 1.47147622e-05,\n",
       "       1.45392299e-05, 1.43509272e-05, 1.39079755e-05, 1.37988493e-05,\n",
       "       1.34474000e-05, 1.31984855e-05, 1.29834226e-05, 1.28449046e-05,\n",
       "       1.25462496e-05, 1.20158869e-05, 1.18935753e-05, 1.16373480e-05,\n",
       "       1.15187875e-05, 1.12211275e-05, 1.10523786e-05, 1.07120893e-05,\n",
       "       1.04823208e-05, 1.03745381e-05, 1.00784710e-05, 9.71208329e-06,\n",
       "       9.51505881e-06, 9.25654109e-06, 8.97114705e-06, 8.77912941e-06,\n",
       "       8.59269951e-06, 8.38002035e-06, 8.07702081e-06, 7.92453233e-06,\n",
       "       7.56723916e-06, 7.32410708e-06, 7.18422485e-06, 7.00075654e-06,\n",
       "       6.86175420e-06, 6.78884136e-06, 6.58484235e-06, 6.13130853e-06,\n",
       "       5.79267529e-06, 5.65404259e-06, 5.59927300e-06, 5.44990064e-06,\n",
       "       5.22174596e-06, 4.99731792e-06, 4.88912349e-06, 4.76922280e-06,\n",
       "       4.65025350e-06, 4.50409564e-06, 4.46492923e-06, 4.39229453e-06,\n",
       "       4.31956494e-06, 4.14052443e-06, 4.04868349e-06, 3.95116344e-06,\n",
       "       3.76087496e-06, 3.70224061e-06, 3.66139320e-06, 3.62156551e-06,\n",
       "       3.30831781e-06, 3.19963258e-06, 2.98783518e-06, 2.76536264e-06,\n",
       "       2.69650335e-06, 2.65967810e-06, 2.48645230e-06, 2.36313616e-06,\n",
       "       2.29916004e-06, 2.21463670e-06, 2.19869203e-06, 2.14848080e-06,\n",
       "       2.12041987e-06, 2.00110818e-06, 1.86016792e-06, 1.74493564e-06,\n",
       "       1.63739737e-06, 1.56426740e-06, 1.54470598e-06, 1.48074083e-06,\n",
       "       1.42263446e-06, 1.38590780e-06, 1.37663378e-06, 1.32851488e-06,\n",
       "       1.27217363e-06, 1.07074339e-06, 1.02048399e-06, 1.00874037e-06,\n",
       "       9.44809003e-07, 9.28140169e-07, 8.57140027e-07, 8.49135534e-07,\n",
       "       8.03280690e-07, 8.00292750e-07, 7.53777888e-07, 7.29199601e-07,\n",
       "       7.13968680e-07, 7.05078877e-07, 6.87811093e-07, 6.50561732e-07,\n",
       "       6.36357026e-07, 6.17153447e-07, 5.87575664e-07, 5.74071143e-07,\n",
       "       5.51407895e-07, 5.25364459e-07, 5.01752672e-07, 4.68491905e-07,\n",
       "       4.50797819e-07, 4.31175400e-07, 4.15796299e-07, 3.87755624e-07,\n",
       "       3.80924683e-07, 3.75447919e-07, 3.52010985e-07, 3.28113123e-07,\n",
       "       2.99223480e-07, 2.92954151e-07, 2.75590011e-07, 2.52324118e-07,\n",
       "       2.23619808e-07, 2.14974868e-07, 1.65309566e-07, 7.51339236e-08,\n",
       "       4.76166993e-08, 4.31210463e-08, 3.78524522e-08, 3.25628819e-08,\n",
       "       2.97843785e-08, 2.81789185e-08, 2.40843077e-08, 2.30698919e-08,\n",
       "       2.24332804e-08, 1.79443427e-08, 1.75883483e-08, 1.28386867e-08,\n",
       "       1.21225886e-08, 1.17140095e-08, 9.65879183e-09, 7.65560812e-09,\n",
       "       6.97561817e-09, 6.39754319e-09, 6.33684081e-09, 4.64259562e-09,\n",
       "       2.50457641e-10, 1.48637216e-10, 1.08925854e-10, 3.64083381e-12,\n",
       "       1.23798099e-12, 2.51134798e-13, 3.53188866e-18, 3.12066097e-18,\n",
       "       2.70746248e-18, 2.44699009e-18, 2.27967321e-18, 2.21662569e-18,\n",
       "       2.10978302e-18, 2.03768634e-18, 1.88750268e-18, 1.85631495e-18,\n",
       "       1.47198882e-18, 1.37674023e-18, 1.32911889e-18, 1.30525642e-18,\n",
       "       1.29857714e-18, 1.27136428e-18, 1.19670144e-18, 1.02411858e-18,\n",
       "       1.01050398e-18, 9.74788101e-19, 9.56189945e-19, 9.23465670e-19,\n",
       "       8.96731884e-19, 8.89356767e-19, 8.63012749e-19, 8.42520773e-19,\n",
       "       7.71685719e-19, 6.99157590e-19, 6.83412981e-19, 6.53677173e-19,\n",
       "       5.94443073e-19, 5.55413418e-19, 5.27079204e-19, 4.83345022e-19,\n",
       "       4.69358555e-19, 4.57581663e-19, 4.32741073e-19, 4.26440029e-19,\n",
       "       4.17649960e-19, 4.04279466e-19, 3.99571366e-19, 3.91049913e-19,\n",
       "       3.85418850e-19, 3.73602749e-19, 3.64021673e-19, 3.57627652e-19,\n",
       "       3.51854732e-19, 3.36949405e-19, 3.30243122e-19, 3.24441152e-19,\n",
       "       3.13393172e-19, 3.01398609e-19, 2.95807315e-19, 2.87271785e-19,\n",
       "       2.84060188e-19, 2.75869137e-19, 2.61685533e-19, 2.50545933e-19,\n",
       "       2.39889722e-19, 2.34130629e-19, 2.23300320e-19, 2.16719161e-19,\n",
       "       2.05057916e-19, 2.01188555e-19, 1.77359688e-19, 1.44306804e-19,\n",
       "       1.38963599e-19, 1.05122274e-19, 7.64069449e-20, 5.95562322e-20,\n",
       "       2.85921934e-33, 2.85921934e-33, 2.85921934e-33, 2.85921934e-33,\n",
       "       2.85921934e-33, 2.85921934e-33, 2.85921934e-33, 2.85921934e-33,\n",
       "       2.85921934e-33, 2.85921934e-33, 2.85921934e-33, 2.85921934e-33,\n",
       "       2.85921934e-33, 2.85921934e-33, 2.85921934e-33, 2.85921934e-33,\n",
       "       2.85921934e-33, 2.85921934e-33, 2.85921934e-33, 8.46287028e-35,\n",
       "       6.10542064e-36])"
      ]
     },
     "execution_count": 63,
     "metadata": {},
     "output_type": "execute_result"
    }
   ],
   "source": [
    "pca.explained_variance_ratio_"
   ]
  },
  {
   "cell_type": "code",
   "execution_count": 64,
   "metadata": {},
   "outputs": [
    {
     "data": {
      "text/plain": [
       "array([0.50738221, 0.56977407, 0.59669971, 0.62122842, 0.64011777,\n",
       "       0.65643173, 0.67057706, 0.68273917, 0.69259164, 0.70208392,\n",
       "       0.71066696, 0.71876676, 0.72642539, 0.73319206, 0.73949448,\n",
       "       0.74565165, 0.751605  , 0.75737696, 0.76301127, 0.76841957,\n",
       "       0.77360785, 0.77863527, 0.78336756, 0.78800575, 0.79247423,\n",
       "       0.79687291, 0.80104154, 0.80504963, 0.80894035, 0.81275373,\n",
       "       0.81642243, 0.82006601, 0.82355825, 0.82702561, 0.830381  ,\n",
       "       0.83367511, 0.83691335, 0.83991843, 0.84286097, 0.84576549,\n",
       "       0.84852314, 0.85122179, 0.85386374, 0.85644405, 0.85899435,\n",
       "       0.86147211, 0.86392749, 0.86631039, 0.86866941, 0.87098985,\n",
       "       0.87327345, 0.87546527, 0.87759158, 0.87968303, 0.88171782,\n",
       "       0.88372949, 0.8857106 , 0.88765451, 0.8895796 , 0.89147499,\n",
       "       0.89333902, 0.89516825, 0.89697782, 0.89874146, 0.90048333,\n",
       "       0.90219804, 0.90390845, 0.90558298, 0.90722001, 0.90883447,\n",
       "       0.9104374 , 0.9120033 , 0.91350564, 0.91499366, 0.91647968,\n",
       "       0.91792957, 0.91937372, 0.92079514, 0.92220344, 0.92357467,\n",
       "       0.92490816, 0.92623684, 0.92754834, 0.92883283, 0.93010695,\n",
       "       0.93135118, 0.9325653 , 0.93376531, 0.93495553, 0.93611542,\n",
       "       0.93725013, 0.93836549, 0.93946687, 0.94055641, 0.94163404,\n",
       "       0.94268918, 0.94371061, 0.94472931, 0.94572644, 0.94671145,\n",
       "       0.94767284, 0.94861279, 0.94955084, 0.95047032, 0.95137711,\n",
       "       0.95226795, 0.95315266, 0.95402157, 0.95488609, 0.95573443,\n",
       "       0.95656911, 0.95739039, 0.95818695, 0.95896686, 0.95974158,\n",
       "       0.96049776, 0.9612373 , 0.96197293, 0.96269783, 0.9633929 ,\n",
       "       0.96407725, 0.96475479, 0.96541937, 0.96607088, 0.96671974,\n",
       "       0.96735649, 0.96798331, 0.96859246, 0.9691927 , 0.9697865 ,\n",
       "       0.97037058, 0.97094594, 0.97150712, 0.97205856, 0.97260472,\n",
       "       0.97314253, 0.97367215, 0.97419744, 0.97471596, 0.97522561,\n",
       "       0.97571755, 0.97620374, 0.97668669, 0.97716551, 0.97763439,\n",
       "       0.97809873, 0.97854977, 0.9789963 , 0.97943566, 0.97987262,\n",
       "       0.9803013 , 0.98071832, 0.98112949, 0.98153979, 0.98194475,\n",
       "       0.98234468, 0.98274022, 0.98313141, 0.98351435, 0.9838948 ,\n",
       "       0.98426566, 0.98462717, 0.98498508, 0.98534071, 0.98568364,\n",
       "       0.98602509, 0.98635611, 0.9866638 , 0.98697025, 0.98726829,\n",
       "       0.98755223, 0.98782478, 0.98809054, 0.9883476 , 0.9885974 ,\n",
       "       0.98884201, 0.98908221, 0.98932048, 0.98954762, 0.98976845,\n",
       "       0.98998572, 0.99020006, 0.9904111 , 0.99062029, 0.99081594,\n",
       "       0.99100902, 0.99119646, 0.99137804, 0.99155795, 0.99173393,\n",
       "       0.99190363, 0.99206529, 0.99222451, 0.99238285, 0.99253431,\n",
       "       0.99268463, 0.99283416, 0.99297865, 0.99311328, 0.99324615,\n",
       "       0.99337471, 0.99350042, 0.99362162, 0.99373973, 0.99385623,\n",
       "       0.99396747, 0.99407783, 0.99418542, 0.99429151, 0.9943942 ,\n",
       "       0.99449493, 0.99459379, 0.99469023, 0.9947842 , 0.99487671,\n",
       "       0.99496868, 0.99505971, 0.99515004, 0.99523879, 0.99532503,\n",
       "       0.99541047, 0.99549331, 0.99557556, 0.99565699, 0.99573649,\n",
       "       0.9958144 , 0.99589123, 0.99596636, 0.99604006, 0.99611268,\n",
       "       0.99618412, 0.99625545, 0.996325  , 0.9963942 , 0.99646146,\n",
       "       0.99652749, 0.99659259, 0.99665689, 0.99672051, 0.99678259,\n",
       "       0.99684377, 0.99690391, 0.99696314, 0.99702179, 0.99707867,\n",
       "       0.99713478, 0.99719016, 0.9972449 , 0.99729895, 0.99735193,\n",
       "       0.99740177, 0.99745099, 0.9974995 , 0.99754712, 0.99759472,\n",
       "       0.99764014, 0.9976851 , 0.99772954, 0.99777324, 0.99781624,\n",
       "       0.99785906, 0.99789996, 0.99794059, 0.99798011, 0.99801895,\n",
       "       0.99805724, 0.99809513, 0.99813211, 0.99816807, 0.99820333,\n",
       "       0.99823824, 0.99827286, 0.99830673, 0.99833988, 0.99837251,\n",
       "       0.99840423, 0.99843572, 0.99846668, 0.99849727, 0.99852677,\n",
       "       0.99855595, 0.99858491, 0.99861345, 0.99864148, 0.99866913,\n",
       "       0.99869654, 0.99872367, 0.99874995, 0.99877586, 0.9988013 ,\n",
       "       0.99882638, 0.99885104, 0.99887511, 0.99889902, 0.99892226,\n",
       "       0.99894545, 0.99896843, 0.99899113, 0.99901347, 0.99903524,\n",
       "       0.99905655, 0.99907757, 0.99909821, 0.99911875, 0.999139  ,\n",
       "       0.99915881, 0.99917828, 0.99919752, 0.99921643, 0.99923502,\n",
       "       0.9992533 , 0.99927137, 0.99928891, 0.99930636, 0.99932338,\n",
       "       0.99934026, 0.99935702, 0.99937358, 0.99938971, 0.99940574,\n",
       "       0.9994215 , 0.99943703, 0.99945206, 0.99946678, 0.99948132,\n",
       "       0.99949567, 0.99950957, 0.99952337, 0.99953682, 0.99955002,\n",
       "       0.999563  , 0.99957585, 0.99958839, 0.99960041, 0.9996123 ,\n",
       "       0.99962394, 0.99963546, 0.99964668, 0.99965773, 0.99966845,\n",
       "       0.99967893, 0.9996893 , 0.99969938, 0.99970909, 0.99971861,\n",
       "       0.99972786, 0.99973684, 0.99974561, 0.99975421, 0.99976259,\n",
       "       0.99977066, 0.99977859, 0.99978616, 0.99979348, 0.99980066,\n",
       "       0.99980767, 0.99981453, 0.99982132, 0.9998279 , 0.99983403,\n",
       "       0.99983982, 0.99984548, 0.99985108, 0.99985653, 0.99986175,\n",
       "       0.99986675, 0.99987164, 0.99987641, 0.99988106, 0.99988556,\n",
       "       0.99989002, 0.99989442, 0.99989874, 0.99990288, 0.99990693,\n",
       "       0.99991088, 0.99991464, 0.99991834, 0.999922  , 0.99992562,\n",
       "       0.99992893, 0.99993213, 0.99993512, 0.99993788, 0.99994058,\n",
       "       0.99994324, 0.99994573, 0.99994809, 0.99995039, 0.9999526 ,\n",
       "       0.9999548 , 0.99995695, 0.99995907, 0.99996107, 0.99996293,\n",
       "       0.99996468, 0.99996631, 0.99996788, 0.99996942, 0.9999709 ,\n",
       "       0.99997233, 0.99997371, 0.99997509, 0.99997642, 0.99997769,\n",
       "       0.99997876, 0.99997978, 0.99998079, 0.99998174, 0.99998266,\n",
       "       0.99998352, 0.99998437, 0.99998517, 0.99998597, 0.99998673,\n",
       "       0.99998746, 0.99998817, 0.99998888, 0.99998956, 0.99999021,\n",
       "       0.99999085, 0.99999147, 0.99999205, 0.99999263, 0.99999318,\n",
       "       0.99999371, 0.99999421, 0.99999468, 0.99999513, 0.99999556,\n",
       "       0.99999597, 0.99999636, 0.99999674, 0.99999712, 0.99999747,\n",
       "       0.9999978 , 0.9999981 , 0.99999839, 0.99999867, 0.99999892,\n",
       "       0.99999914, 0.99999936, 0.99999952, 0.9999996 , 0.99999964,\n",
       "       0.99999969, 0.99999973, 0.99999976, 0.99999979, 0.99999982,\n",
       "       0.99999984, 0.99999986, 0.99999989, 0.9999999 , 0.99999992,\n",
       "       0.99999993, 0.99999995, 0.99999996, 0.99999997, 0.99999998,\n",
       "       0.99999998, 0.99999999, 0.99999999, 1.        , 1.        ,\n",
       "       1.        , 1.        , 1.        , 1.        , 1.        ,\n",
       "       1.        , 1.        , 1.        , 1.        , 1.        ,\n",
       "       1.        , 1.        , 1.        , 1.        , 1.        ,\n",
       "       1.        , 1.        , 1.        , 1.        , 1.        ,\n",
       "       1.        , 1.        , 1.        , 1.        , 1.        ,\n",
       "       1.        , 1.        , 1.        , 1.        , 1.        ,\n",
       "       1.        , 1.        , 1.        , 1.        , 1.        ,\n",
       "       1.        , 1.        , 1.        , 1.        , 1.        ,\n",
       "       1.        , 1.        , 1.        , 1.        , 1.        ,\n",
       "       1.        , 1.        , 1.        , 1.        , 1.        ,\n",
       "       1.        , 1.        , 1.        , 1.        , 1.        ,\n",
       "       1.        , 1.        , 1.        , 1.        , 1.        ,\n",
       "       1.        , 1.        , 1.        , 1.        , 1.        ,\n",
       "       1.        , 1.        , 1.        , 1.        , 1.        ,\n",
       "       1.        , 1.        , 1.        , 1.        , 1.        ,\n",
       "       1.        , 1.        , 1.        , 1.        , 1.        ,\n",
       "       1.        , 1.        , 1.        , 1.        , 1.        ,\n",
       "       1.        , 1.        , 1.        , 1.        , 1.        ,\n",
       "       1.        , 1.        , 1.        , 1.        , 1.        ,\n",
       "       1.        ])"
      ]
     },
     "execution_count": 64,
     "metadata": {},
     "output_type": "execute_result"
    }
   ],
   "source": [
    "cumvar = np.cumsum(pca.explained_variance_ratio_)\n",
    "cumvar"
   ]
  },
  {
   "cell_type": "code",
   "execution_count": 66,
   "metadata": {},
   "outputs": [
    {
     "data": {
      "text/plain": [
       "(10299, 561)"
      ]
     },
     "execution_count": 66,
     "metadata": {},
     "output_type": "execute_result"
    }
   ],
   "source": [
    "X_pca.shape"
   ]
  },
  {
   "cell_type": "code",
   "execution_count": 68,
   "metadata": {},
   "outputs": [
    {
     "data": {
      "text/plain": [
       "65"
      ]
     },
     "execution_count": 68,
     "metadata": {},
     "output_type": "execute_result"
    }
   ],
   "source": [
    "np.nonzero(cumvar > 0.9)[0][0] + 1"
   ]
  },
  {
   "cell_type": "markdown",
   "metadata": {},
   "source": [
    "**Answer options:**\n",
    "- 56 \n",
    "- 65\n",
    "- 66\n",
    "- 193"
   ]
  },
  {
   "cell_type": "markdown",
   "metadata": {},
   "source": [
    "**Question 2:**<br>\n",
    "What percentage of the variance is covered by the first principal component? Round to the nearest percent.\n",
    "\n",
    "**Answer options:**\n",
    "- 45\n",
    "- 51 \n",
    "- 56\n",
    "- 61"
   ]
  },
  {
   "cell_type": "code",
   "execution_count": 69,
   "metadata": {},
   "outputs": [
    {
     "data": {
      "text/plain": [
       "51.0"
      ]
     },
     "execution_count": 69,
     "metadata": {},
     "output_type": "execute_result"
    }
   ],
   "source": [
    "np.round(100 * pca.explained_variance_ratio_[0])"
   ]
  },
  {
   "cell_type": "code",
   "execution_count": 70,
   "metadata": {},
   "outputs": [
    {
     "data": {
      "text/plain": [
       "(10299,)"
      ]
     },
     "execution_count": 70,
     "metadata": {},
     "output_type": "execute_result"
    }
   ],
   "source": [
    "y.shape"
   ]
  },
  {
   "cell_type": "markdown",
   "metadata": {},
   "source": [
    "Visualize data in projection on the first two principal components."
   ]
  },
  {
   "cell_type": "code",
   "execution_count": 74,
   "metadata": {},
   "outputs": [
    {
     "data": {
      "image/png": "[encoded data removed]",
      "text/plain": [
       "<Figure size 864x648 with 1 Axes>"
      ]
     },
     "metadata": {},
     "output_type": "display_data"
    }
   ],
   "source": [
    "plt.scatter(X_pca[:, 0], X_pca[:, 1], c=y, s=20, cmap='viridis');"
   ]
  },
  {
   "cell_type": "markdown",
   "metadata": {},
   "source": [
    "**Question 3:**<br>\n",
    "If everything worked out correctly, you will see a number of clusters, almost perfectly separated from each other. What types of activity are included in these clusters? <br>\n",
    "\n",
    "**Answer options:**\n",
    "- 1 cluster: all 6 activities\n",
    "- 2 clusters: (walking, walking upstairs, walking downstairs ) and (sitting, standing, laying)\n",
    "- 3 clusters: (walking), (walking upstairs, walking downstairs) and (sitting, standing, laying)\n",
    "- 6 clusters"
   ]
  },
  {
   "cell_type": "markdown",
   "metadata": {},
   "source": [
    "------------------------------"
   ]
  },
  {
   "cell_type": "markdown",
   "metadata": {},
   "source": [
    "Perform clustering with the `KMeans` method, training the model on data with reduced dimensionality (by PCA). In this case, we will give a clue to look for exactly 6 clusters, but in general case we will not know how many clusters we should be looking for.\n",
    "\n",
    "Options:\n",
    "\n",
    "- **n_clusters** = n_classes (number of unique labels of the target class)\n",
    "- **n_init** = 100\n",
    "- **random_state** = RANDOM_STATE (for reproducibility of the result)\n",
    "\n",
    "Other parameters should have default values."
   ]
  },
  {
   "cell_type": "code",
   "execution_count": 78,
   "metadata": {},
   "outputs": [],
   "source": [
    "inertia = []\n",
    "for k in range(1, 8):\n",
    "    kmeans = KMeans(n_clusters=k, random_state=RANDOM_STATE).fit(X_pca)\n",
    "    inertia.append(np.sqrt(kmeans.inertia_))"
   ]
  },
  {
   "cell_type": "code",
   "execution_count": 79,
   "metadata": {},
   "outputs": [
    {
     "data": {
      "image/png": "[encoded data removed]",
      "text/plain": [
       "<Figure size 864x648 with 1 Axes>"
      ]
     },
     "metadata": {},
     "output_type": "display_data"
    }
   ],
   "source": [
    "plt.plot(range(1, 8), inertia, marker='s');\n",
    "plt.xlabel('$k$')\n",
    "plt.ylabel('$J(C_k)$');"
   ]
  },
  {
   "cell_type": "code",
   "execution_count": 81,
   "metadata": {},
   "outputs": [
    {
     "data": {
      "text/plain": [
       "KMeans(algorithm='auto', copy_x=True, init='k-means++', max_iter=300,\n",
       "    n_clusters=2, n_init=100, n_jobs=None, precompute_distances='auto',\n",
       "    random_state=17, tol=0.0001, verbose=0)"
      ]
     },
     "execution_count": 81,
     "metadata": {},
     "output_type": "execute_result"
    }
   ],
   "source": [
    "kmeans = KMeans(n_clusters=2, n_init=100, random_state=RANDOM_STATE)\n",
    "kmeans.fit(X_pca[:, 0:1])"
   ]
  },
  {
   "cell_type": "code",
   "execution_count": 82,
   "metadata": {},
   "outputs": [
    {
     "data": {
      "image/png": "[encoded data removed]",
      "text/plain": [
       "<Figure size 864x648 with 1 Axes>"
      ]
     },
     "metadata": {},
     "output_type": "display_data"
    }
   ],
   "source": [
    "plt.scatter(X_pca[:, 0], X_pca[:, 1], c=kmeans.labels_, s=20, cmap='viridis');"
   ]
  },
  {
   "cell_type": "code",
   "execution_count": null,
   "metadata": {},
   "outputs": [],
   "source": []
  },
  {
   "cell_type": "code",
   "execution_count": 83,
   "metadata": {},
   "outputs": [
    {
     "data": {
      "text/plain": [
       "KMeans(algorithm='auto', copy_x=True, init='k-means++', max_iter=300,\n",
       "    n_clusters=6, n_init=100, n_jobs=None, precompute_distances='auto',\n",
       "    random_state=17, tol=0.0001, verbose=0)"
      ]
     },
     "execution_count": 83,
     "metadata": {},
     "output_type": "execute_result"
    }
   ],
   "source": [
    "kmeans = KMeans(n_clusters=6, n_init=100, random_state=RANDOM_STATE)\n",
    "kmeans.fit(X_pca[:, 0:1])"
   ]
  },
  {
   "cell_type": "markdown",
   "metadata": {},
   "source": [
    "Visualize data in projection on the first two principal components. Color the dots according to the clusters obtained."
   ]
  },
  {
   "cell_type": "code",
   "execution_count": 84,
   "metadata": {},
   "outputs": [
    {
     "data": {
      "text/plain": [
       "array([2, 2, 2, ..., 4, 4, 4], dtype=int32)"
      ]
     },
     "execution_count": 84,
     "metadata": {},
     "output_type": "execute_result"
    }
   ],
   "source": [
    "kmeans.labels_\n"
   ]
  },
  {
   "cell_type": "code",
   "execution_count": 85,
   "metadata": {},
   "outputs": [
    {
     "data": {
      "image/png": "[encoded data removed]",
      "text/plain": [
       "<Figure size 864x648 with 1 Axes>"
      ]
     },
     "metadata": {},
     "output_type": "display_data"
    }
   ],
   "source": [
    "plt.scatter(X_pca[:, 0], X_pca[:, 1], c=kmeans.labels_, s=20, cmap='viridis');"
   ]
  },
  {
   "cell_type": "markdown",
   "metadata": {},
   "source": [
    "Look at the correspondence between the cluster marks and the original class labels and what kinds of activities the `KMeans` algorithm is confused at."
   ]
  },
  {
   "cell_type": "code",
   "execution_count": 89,
   "metadata": {},
   "outputs": [
    {
     "data": {
      "text/html": [
       "<div>\n",
       "<style scoped>\n",
       "    .dataframe tbody tr th:only-of-type {\n",
       "        vertical-align: middle;\n",
       "    }\n",
       "\n",
       "    .dataframe tbody tr th {\n",
       "        vertical-align: top;\n",
       "    }\n",
       "\n",
       "    .dataframe thead th {\n",
       "        text-align: right;\n",
       "    }\n",
       "</style>\n",
       "<table border=\"1\" class=\"dataframe\">\n",
       "  <thead>\n",
       "    <tr style=\"text-align: right;\">\n",
       "      <th></th>\n",
       "      <th>cluster1</th>\n",
       "      <th>cluster2</th>\n",
       "      <th>cluster3</th>\n",
       "      <th>cluster4</th>\n",
       "      <th>cluster5</th>\n",
       "      <th>cluster6</th>\n",
       "      <th>all</th>\n",
       "    </tr>\n",
       "  </thead>\n",
       "  <tbody>\n",
       "    <tr>\n",
       "      <th>walking</th>\n",
       "      <td>0</td>\n",
       "      <td>722</td>\n",
       "      <td>0</td>\n",
       "      <td>38</td>\n",
       "      <td>589</td>\n",
       "      <td>373</td>\n",
       "      <td>1722</td>\n",
       "    </tr>\n",
       "    <tr>\n",
       "      <th>going up the stairs</th>\n",
       "      <td>1</td>\n",
       "      <td>524</td>\n",
       "      <td>0</td>\n",
       "      <td>5</td>\n",
       "      <td>839</td>\n",
       "      <td>175</td>\n",
       "      <td>1544</td>\n",
       "    </tr>\n",
       "    <tr>\n",
       "      <th>going down the stairs</th>\n",
       "      <td>0</td>\n",
       "      <td>455</td>\n",
       "      <td>0</td>\n",
       "      <td>178</td>\n",
       "      <td>148</td>\n",
       "      <td>625</td>\n",
       "      <td>1406</td>\n",
       "    </tr>\n",
       "    <tr>\n",
       "      <th>sitting</th>\n",
       "      <td>322</td>\n",
       "      <td>0</td>\n",
       "      <td>1452</td>\n",
       "      <td>0</td>\n",
       "      <td>3</td>\n",
       "      <td>0</td>\n",
       "      <td>1777</td>\n",
       "    </tr>\n",
       "    <tr>\n",
       "      <th>standing</th>\n",
       "      <td>506</td>\n",
       "      <td>0</td>\n",
       "      <td>1399</td>\n",
       "      <td>0</td>\n",
       "      <td>1</td>\n",
       "      <td>0</td>\n",
       "      <td>1906</td>\n",
       "    </tr>\n",
       "    <tr>\n",
       "      <th>laying</th>\n",
       "      <td>293</td>\n",
       "      <td>2</td>\n",
       "      <td>1636</td>\n",
       "      <td>0</td>\n",
       "      <td>13</td>\n",
       "      <td>0</td>\n",
       "      <td>1944</td>\n",
       "    </tr>\n",
       "    <tr>\n",
       "      <th>all</th>\n",
       "      <td>1122</td>\n",
       "      <td>1703</td>\n",
       "      <td>4487</td>\n",
       "      <td>221</td>\n",
       "      <td>1593</td>\n",
       "      <td>1173</td>\n",
       "      <td>10299</td>\n",
       "    </tr>\n",
       "  </tbody>\n",
       "</table>\n",
       "</div>"
      ],
      "text/plain": [
       "                       cluster1  cluster2  cluster3  cluster4  cluster5  \\\n",
       "walking                       0       722         0        38       589   \n",
       "going up the stairs           1       524         0         5       839   \n",
       "going down the stairs         0       455         0       178       148   \n",
       "sitting                     322         0      1452         0         3   \n",
       "standing                    506         0      1399         0         1   \n",
       "laying                      293         2      1636         0        13   \n",
       "all                        1122      1703      4487       221      1593   \n",
       "\n",
       "                       cluster6    all  \n",
       "walking                     373   1722  \n",
       "going up the stairs         175   1544  \n",
       "going down the stairs       625   1406  \n",
       "sitting                       0   1777  \n",
       "standing                      0   1906  \n",
       "laying                        0   1944  \n",
       "all                        1173  10299  "
      ]
     },
     "execution_count": 89,
     "metadata": {},
     "output_type": "execute_result"
    }
   ],
   "source": [
    "tab = pd.crosstab(y, kmeans.labels_, margins=True, normalize=False)\n",
    "tab.index = ['walking', 'going up the stairs', 'going down the stairs', 'sitting', 'standing', 'laying', 'all']\n",
    "tab.columns = ['cluster' + str(i + 1) for i in range(6)] + ['all']\n",
    "tab"
   ]
  },
  {
   "cell_type": "markdown",
   "metadata": {},
   "source": [
    "We see that for each class (i.e., each activity) there are several clusters. Let's look at the maximum percentage of objects in a class that are assigned to a single cluster. This will be a simple metric that characterizes how easily the class is separated from others when clustering.\n",
    "\n",
    "Example: if for class \"walking downstairs\" (with 1406 instances belonging to it), the distribution of clusters is:\n",
    " - cluster 1 - 900\n",
    " - cluster 3 - 500\n",
    " - cluster 6 - 6,\n",
    " \n",
    "then such a share will be 900/1406 $ \\approx $ 0.64.\n",
    " \n",
    "\n",
    "**Question 4:** <br>\n",
    "Which activity is separated from the rest better than others based on the simple metric described above? <br>\n",
    "\n",
    "**Answer:**\n",
    "- walking\n",
    "- standing\n",
    "- walking downstairs\n",
    "- all three options are incorrect"
   ]
  },
  {
   "cell_type": "markdown",
   "metadata": {},
   "source": [
    "It can be seen that kMeans does not distinguish activities very well. Use the elbow method to select the optimal number of clusters. Parameters of the algorithm and the data we use are the same as before, we change only `n_clusters`."
   ]
  },
  {
   "cell_type": "code",
   "execution_count": 18,
   "metadata": {},
   "outputs": [],
   "source": [
    "# # Your code here\n",
    "# inertia = []\n",
    "# for k in tqdm_notebook(range(1, n_classes + 1)):\n",
    "#     pass"
   ]
  },
  {
   "cell_type": "markdown",
   "metadata": {},
   "source": [
    "**Question 5:** <br>\n",
    "How many clusters can we choose according to the elbow method? <br>\n",
    "\n",
    "**Answer options:**\n",
    "- 1\n",
    "- 2\n",
    "- 3\n",
    "- 4"
   ]
  },
  {
   "cell_type": "markdown",
   "metadata": {},
   "source": [
    "------------------------"
   ]
  },
  {
   "cell_type": "markdown",
   "metadata": {},
   "source": [
    "Let's try another clustering algorithm, described in the article – agglomerative clustering."
   ]
  },
  {
   "cell_type": "code",
   "execution_count": 90,
   "metadata": {},
   "outputs": [],
   "source": [
    "ag = AgglomerativeClustering(n_clusters=6, linkage='ward').fit(X_pca)"
   ]
  },
  {
   "cell_type": "markdown",
   "metadata": {},
   "source": [
    "Calculate the Adjusted Rand Index (`sklearn.metrics`) for the resulting clustering and for ` KMeans` with the parameters from the 4th question."
   ]
  },
  {
   "cell_type": "code",
   "execution_count": 92,
   "metadata": {},
   "outputs": [
    {
     "name": "stdout",
     "output_type": "stream",
     "text": [
      "kmeans 0.2777626262043226\n",
      "ag 0.4598748901093879\n"
     ]
    }
   ],
   "source": [
    "print('kmeans', metrics.adjusted_rand_score(y, kmeans.labels_))\n",
    "print('ag', metrics.adjusted_rand_score(y, ag.labels_))"
   ]
  },
  {
   "cell_type": "markdown",
   "metadata": {},
   "source": [
    "**Question 6:** <br>\n",
    "Select all the correct statements. <br>\n",
    "\n",
    "**Answer options:**\n",
    "- According to ARI, KMeans handled clustering worse than Agglomerative Clustering \n",
    "- For ARI, it does not matter which tags are assigned to the cluster, only the partitioning of instances into clusters matters \n",
    "- In case of random partitioning into clusters, ARI will be close to zero "
   ]
  },
  {
   "cell_type": "markdown",
   "metadata": {},
   "source": [
    "-------------------------------"
   ]
  },
  {
   "cell_type": "markdown",
   "metadata": {},
   "source": [
    "You can notice that the task is not very well solved when we try to detect several clusters (> 2). Now, let's solve the classification problem, given that the data is labeled.\n",
    "\n",
    "For classification, use the support vector machine – class `sklearn.svm.LinearSVC`. In this course, we didn't study this algorithm separately, but it is well-known and you can read about it, for example [here](http://cs231n.github.io/linear-classify/#svmvssoftmax).\n",
    "\n",
    "Choose the `C` hyperparameter for` LinearSVC` using `GridSearchCV`.\n",
    "\n",
    "- Train the new `StandardScaler` on the training set (with all original features), apply scaling to the test set\n",
    "- In `GridSearchCV`, specify `cv` = 3."
   ]
  },
  {
   "cell_type": "code",
   "execution_count": 95,
   "metadata": {},
   "outputs": [],
   "source": [
    "scaler = StandardScaler()\n",
    "X_train_scaled = scaler.fit_transform(X_train)\n",
    "X_test_scaled = scaler.transform(X_test)"
   ]
  },
  {
   "cell_type": "code",
   "execution_count": 96,
   "metadata": {},
   "outputs": [],
   "source": [
    "svc = LinearSVC(random_state=RANDOM_STATE)\n",
    "svc_params = {'C': [0.001, 0.01, 0.1, 1, 10]}"
   ]
  },
  {
   "cell_type": "code",
   "execution_count": 98,
   "metadata": {},
   "outputs": [
    {
     "name": "stderr",
     "output_type": "stream",
     "text": [
      "/opt/conda/lib/python3.6/site-packages/sklearn/svm/base.py:931: ConvergenceWarning: Liblinear failed to converge, increase the number of iterations.\n",
      "  \"the number of iterations.\", ConvergenceWarning)\n",
      "/opt/conda/lib/python3.6/site-packages/sklearn/svm/base.py:931: ConvergenceWarning: Liblinear failed to converge, increase the number of iterations.\n",
      "  \"the number of iterations.\", ConvergenceWarning)\n",
      "/opt/conda/lib/python3.6/site-packages/sklearn/svm/base.py:931: ConvergenceWarning: Liblinear failed to converge, increase the number of iterations.\n",
      "  \"the number of iterations.\", ConvergenceWarning)\n",
      "/opt/conda/lib/python3.6/site-packages/sklearn/svm/base.py:931: ConvergenceWarning: Liblinear failed to converge, increase the number of iterations.\n",
      "  \"the number of iterations.\", ConvergenceWarning)\n",
      "/opt/conda/lib/python3.6/site-packages/sklearn/svm/base.py:931: ConvergenceWarning: Liblinear failed to converge, increase the number of iterations.\n",
      "  \"the number of iterations.\", ConvergenceWarning)\n",
      "/opt/conda/lib/python3.6/site-packages/sklearn/svm/base.py:931: ConvergenceWarning: Liblinear failed to converge, increase the number of iterations.\n",
      "  \"the number of iterations.\", ConvergenceWarning)\n",
      "/opt/conda/lib/python3.6/site-packages/sklearn/svm/base.py:931: ConvergenceWarning: Liblinear failed to converge, increase the number of iterations.\n",
      "  \"the number of iterations.\", ConvergenceWarning)\n",
      "/opt/conda/lib/python3.6/site-packages/sklearn/svm/base.py:931: ConvergenceWarning: Liblinear failed to converge, increase the number of iterations.\n",
      "  \"the number of iterations.\", ConvergenceWarning)\n",
      "/opt/conda/lib/python3.6/site-packages/sklearn/svm/base.py:931: ConvergenceWarning: Liblinear failed to converge, increase the number of iterations.\n",
      "  \"the number of iterations.\", ConvergenceWarning)\n"
     ]
    },
    {
     "name": "stdout",
     "output_type": "stream",
     "text": [
      "CPU times: user 41 s, sys: 8.21 s, total: 49.2 s\n",
      "Wall time: 38 s\n"
     ]
    },
    {
     "name": "stderr",
     "output_type": "stream",
     "text": [
      "/opt/conda/lib/python3.6/site-packages/sklearn/svm/base.py:931: ConvergenceWarning: Liblinear failed to converge, increase the number of iterations.\n",
      "  \"the number of iterations.\", ConvergenceWarning)\n"
     ]
    }
   ],
   "source": [
    "%%time\n",
    "\n",
    "grid_svc = GridSearchCV(svc, svc_params, cv=3, scoring='accuracy')\n",
    "grid_svc.fit(X_train_scaled, y_train)"
   ]
  },
  {
   "cell_type": "code",
   "execution_count": 100,
   "metadata": {},
   "outputs": [
    {
     "data": {
      "text/plain": [
       "({'C': 0.1}, 0.9382480957562568)"
      ]
     },
     "execution_count": 100,
     "metadata": {},
     "output_type": "execute_result"
    }
   ],
   "source": [
    "grid_svc.best_params_, grid_svc.best_score_"
   ]
  },
  {
   "cell_type": "markdown",
   "metadata": {},
   "source": [
    "**Question 7**<br>\n",
    "Which value of the hyperparameter `C` was chosen the best on the basis of cross-validation? <br>\n",
    "\n",
    "**Answer options:**\n",
    "- 0.001\n",
    "- 0.01\n",
    "- 0.1 \n",
    "- 1\n",
    "- 10"
   ]
  },
  {
   "cell_type": "code",
   "execution_count": 102,
   "metadata": {},
   "outputs": [],
   "source": [
    "y_pred = grid_svc.predict(X_test_scaled)"
   ]
  },
  {
   "cell_type": "code",
   "execution_count": 104,
   "metadata": {},
   "outputs": [
    {
     "data": {
      "text/html": [
       "<div>\n",
       "<style scoped>\n",
       "    .dataframe tbody tr th:only-of-type {\n",
       "        vertical-align: middle;\n",
       "    }\n",
       "\n",
       "    .dataframe tbody tr th {\n",
       "        vertical-align: top;\n",
       "    }\n",
       "\n",
       "    .dataframe thead th {\n",
       "        text-align: right;\n",
       "    }\n",
       "</style>\n",
       "<table border=\"1\" class=\"dataframe\">\n",
       "  <thead>\n",
       "    <tr style=\"text-align: right;\">\n",
       "      <th></th>\n",
       "      <th>walking</th>\n",
       "      <th>climbing up the stairs</th>\n",
       "      <th>going down the stairs</th>\n",
       "      <th>sitting</th>\n",
       "      <th>standing</th>\n",
       "      <th>laying</th>\n",
       "      <th>all</th>\n",
       "    </tr>\n",
       "  </thead>\n",
       "  <tbody>\n",
       "    <tr>\n",
       "      <th>walking</th>\n",
       "      <td>494</td>\n",
       "      <td>2</td>\n",
       "      <td>0</td>\n",
       "      <td>0</td>\n",
       "      <td>0</td>\n",
       "      <td>0</td>\n",
       "      <td>496</td>\n",
       "    </tr>\n",
       "    <tr>\n",
       "      <th>climbing up the stairs</th>\n",
       "      <td>12</td>\n",
       "      <td>459</td>\n",
       "      <td>0</td>\n",
       "      <td>0</td>\n",
       "      <td>0</td>\n",
       "      <td>0</td>\n",
       "      <td>471</td>\n",
       "    </tr>\n",
       "    <tr>\n",
       "      <th>going down the stairs</th>\n",
       "      <td>2</td>\n",
       "      <td>4</td>\n",
       "      <td>413</td>\n",
       "      <td>1</td>\n",
       "      <td>0</td>\n",
       "      <td>0</td>\n",
       "      <td>420</td>\n",
       "    </tr>\n",
       "    <tr>\n",
       "      <th>sitting</th>\n",
       "      <td>0</td>\n",
       "      <td>4</td>\n",
       "      <td>0</td>\n",
       "      <td>426</td>\n",
       "      <td>61</td>\n",
       "      <td>0</td>\n",
       "      <td>491</td>\n",
       "    </tr>\n",
       "    <tr>\n",
       "      <th>standing</th>\n",
       "      <td>0</td>\n",
       "      <td>0</td>\n",
       "      <td>0</td>\n",
       "      <td>15</td>\n",
       "      <td>517</td>\n",
       "      <td>0</td>\n",
       "      <td>532</td>\n",
       "    </tr>\n",
       "    <tr>\n",
       "      <th>laying</th>\n",
       "      <td>0</td>\n",
       "      <td>0</td>\n",
       "      <td>0</td>\n",
       "      <td>0</td>\n",
       "      <td>11</td>\n",
       "      <td>526</td>\n",
       "      <td>537</td>\n",
       "    </tr>\n",
       "    <tr>\n",
       "      <th>all</th>\n",
       "      <td>508</td>\n",
       "      <td>469</td>\n",
       "      <td>413</td>\n",
       "      <td>442</td>\n",
       "      <td>589</td>\n",
       "      <td>526</td>\n",
       "      <td>2947</td>\n",
       "    </tr>\n",
       "  </tbody>\n",
       "</table>\n",
       "</div>"
      ],
      "text/plain": [
       "                        walking  climbing up the stairs  \\\n",
       "walking                     494                       2   \n",
       "climbing up the stairs       12                     459   \n",
       "going down the stairs         2                       4   \n",
       "sitting                       0                       4   \n",
       "standing                      0                       0   \n",
       "laying                        0                       0   \n",
       "all                         508                     469   \n",
       "\n",
       "                         going down the stairs  sitting  standing  laying  \\\n",
       "walking                                      0        0         0       0   \n",
       "climbing up the stairs                       0        0         0       0   \n",
       "going down the stairs                      413        1         0       0   \n",
       "sitting                                      0      426        61       0   \n",
       "standing                                     0       15       517       0   \n",
       "laying                                       0        0        11     526   \n",
       "all                                        413      442       589     526   \n",
       "\n",
       "                         all  \n",
       "walking                  496  \n",
       "climbing up the stairs   471  \n",
       "going down the stairs    420  \n",
       "sitting                  491  \n",
       "standing                 532  \n",
       "laying                   537  \n",
       "all                     2947  "
      ]
     },
     "execution_count": 104,
     "metadata": {},
     "output_type": "execute_result"
    }
   ],
   "source": [
    "tab = pd.crosstab(y_test, y_pred, margins=True)\n",
    "tab.index = ['walking', 'climbing up the stairs', 'going down the stairs', 'sitting', 'standing', 'laying', 'all']\n",
    "tab.columns = ['walking', 'climbing up the stairs',' going down the stairs', 'sitting', 'standing', 'laying', 'all']\n",
    "tab"
   ]
  },
  {
   "cell_type": "code",
   "execution_count": 110,
   "metadata": {},
   "outputs": [
    {
     "data": {
      "text/html": [
       "<div>\n",
       "<style scoped>\n",
       "    .dataframe tbody tr th:only-of-type {\n",
       "        vertical-align: middle;\n",
       "    }\n",
       "\n",
       "    .dataframe tbody tr th {\n",
       "        vertical-align: top;\n",
       "    }\n",
       "\n",
       "    .dataframe thead th {\n",
       "        text-align: right;\n",
       "    }\n",
       "</style>\n",
       "<table border=\"1\" class=\"dataframe\">\n",
       "  <thead>\n",
       "    <tr style=\"text-align: right;\">\n",
       "      <th></th>\n",
       "      <th>walking</th>\n",
       "      <th>climbing up the stairs</th>\n",
       "      <th>going down the stairs</th>\n",
       "      <th>sitting</th>\n",
       "      <th>standing</th>\n",
       "      <th>laying</th>\n",
       "    </tr>\n",
       "  </thead>\n",
       "  <tbody>\n",
       "    <tr>\n",
       "      <th>walking</th>\n",
       "      <td>0.995968</td>\n",
       "      <td>0.004032</td>\n",
       "      <td>0.000000</td>\n",
       "      <td>0.000000</td>\n",
       "      <td>0.000000</td>\n",
       "      <td>0.000000</td>\n",
       "    </tr>\n",
       "    <tr>\n",
       "      <th>climbing up the stairs</th>\n",
       "      <td>0.025478</td>\n",
       "      <td>0.974522</td>\n",
       "      <td>0.000000</td>\n",
       "      <td>0.000000</td>\n",
       "      <td>0.000000</td>\n",
       "      <td>0.000000</td>\n",
       "    </tr>\n",
       "    <tr>\n",
       "      <th>going down the stairs</th>\n",
       "      <td>0.004762</td>\n",
       "      <td>0.009524</td>\n",
       "      <td>0.983333</td>\n",
       "      <td>0.002381</td>\n",
       "      <td>0.000000</td>\n",
       "      <td>0.000000</td>\n",
       "    </tr>\n",
       "    <tr>\n",
       "      <th>sitting</th>\n",
       "      <td>0.000000</td>\n",
       "      <td>0.008147</td>\n",
       "      <td>0.000000</td>\n",
       "      <td>0.867617</td>\n",
       "      <td>0.124236</td>\n",
       "      <td>0.000000</td>\n",
       "    </tr>\n",
       "    <tr>\n",
       "      <th>standing</th>\n",
       "      <td>0.000000</td>\n",
       "      <td>0.000000</td>\n",
       "      <td>0.000000</td>\n",
       "      <td>0.028195</td>\n",
       "      <td>0.971805</td>\n",
       "      <td>0.000000</td>\n",
       "    </tr>\n",
       "    <tr>\n",
       "      <th>laying</th>\n",
       "      <td>0.000000</td>\n",
       "      <td>0.000000</td>\n",
       "      <td>0.000000</td>\n",
       "      <td>0.000000</td>\n",
       "      <td>0.020484</td>\n",
       "      <td>0.979516</td>\n",
       "    </tr>\n",
       "  </tbody>\n",
       "</table>\n",
       "</div>"
      ],
      "text/plain": [
       "                         walking  climbing up the stairs  \\\n",
       "walking                 0.995968                0.004032   \n",
       "climbing up the stairs  0.025478                0.974522   \n",
       "going down the stairs   0.004762                0.009524   \n",
       "sitting                 0.000000                0.008147   \n",
       "standing                0.000000                0.000000   \n",
       "laying                  0.000000                0.000000   \n",
       "\n",
       "                         going down the stairs   sitting  standing    laying  \n",
       "walking                               0.000000  0.000000  0.000000  0.000000  \n",
       "climbing up the stairs                0.000000  0.000000  0.000000  0.000000  \n",
       "going down the stairs                 0.983333  0.002381  0.000000  0.000000  \n",
       "sitting                               0.000000  0.867617  0.124236  0.000000  \n",
       "standing                              0.000000  0.028195  0.971805  0.000000  \n",
       "laying                                0.000000  0.000000  0.020484  0.979516  "
      ]
     },
     "execution_count": 110,
     "metadata": {},
     "output_type": "execute_result"
    }
   ],
   "source": [
    "tab = pd.crosstab(y_test, y_pred, normalize='index')\n",
    "tab.index = ['walking', 'climbing up the stairs', 'going down the stairs', 'sitting', 'standing', 'laying']\n",
    "tab.columns = ['walking', 'climbing up the stairs',' going down the stairs', 'sitting', 'standing', 'laying']\n",
    "tab\n",
    "\n",
    "# worst recall – sitting"
   ]
  },
  {
   "cell_type": "code",
   "execution_count": 111,
   "metadata": {},
   "outputs": [
    {
     "data": {
      "text/html": [
       "<div>\n",
       "<style scoped>\n",
       "    .dataframe tbody tr th:only-of-type {\n",
       "        vertical-align: middle;\n",
       "    }\n",
       "\n",
       "    .dataframe tbody tr th {\n",
       "        vertical-align: top;\n",
       "    }\n",
       "\n",
       "    .dataframe thead th {\n",
       "        text-align: right;\n",
       "    }\n",
       "</style>\n",
       "<table border=\"1\" class=\"dataframe\">\n",
       "  <thead>\n",
       "    <tr style=\"text-align: right;\">\n",
       "      <th></th>\n",
       "      <th>walking</th>\n",
       "      <th>climbing up the stairs</th>\n",
       "      <th>going down the stairs</th>\n",
       "      <th>sitting</th>\n",
       "      <th>standing</th>\n",
       "      <th>laying</th>\n",
       "    </tr>\n",
       "  </thead>\n",
       "  <tbody>\n",
       "    <tr>\n",
       "      <th>walking</th>\n",
       "      <td>0.972441</td>\n",
       "      <td>0.004264</td>\n",
       "      <td>0.0</td>\n",
       "      <td>0.000000</td>\n",
       "      <td>0.000000</td>\n",
       "      <td>0.0</td>\n",
       "    </tr>\n",
       "    <tr>\n",
       "      <th>climbing up the stairs</th>\n",
       "      <td>0.023622</td>\n",
       "      <td>0.978678</td>\n",
       "      <td>0.0</td>\n",
       "      <td>0.000000</td>\n",
       "      <td>0.000000</td>\n",
       "      <td>0.0</td>\n",
       "    </tr>\n",
       "    <tr>\n",
       "      <th>going down the stairs</th>\n",
       "      <td>0.003937</td>\n",
       "      <td>0.008529</td>\n",
       "      <td>1.0</td>\n",
       "      <td>0.002262</td>\n",
       "      <td>0.000000</td>\n",
       "      <td>0.0</td>\n",
       "    </tr>\n",
       "    <tr>\n",
       "      <th>sitting</th>\n",
       "      <td>0.000000</td>\n",
       "      <td>0.008529</td>\n",
       "      <td>0.0</td>\n",
       "      <td>0.963801</td>\n",
       "      <td>0.103565</td>\n",
       "      <td>0.0</td>\n",
       "    </tr>\n",
       "    <tr>\n",
       "      <th>standing</th>\n",
       "      <td>0.000000</td>\n",
       "      <td>0.000000</td>\n",
       "      <td>0.0</td>\n",
       "      <td>0.033937</td>\n",
       "      <td>0.877759</td>\n",
       "      <td>0.0</td>\n",
       "    </tr>\n",
       "    <tr>\n",
       "      <th>laying</th>\n",
       "      <td>0.000000</td>\n",
       "      <td>0.000000</td>\n",
       "      <td>0.0</td>\n",
       "      <td>0.000000</td>\n",
       "      <td>0.018676</td>\n",
       "      <td>1.0</td>\n",
       "    </tr>\n",
       "  </tbody>\n",
       "</table>\n",
       "</div>"
      ],
      "text/plain": [
       "                         walking  climbing up the stairs  \\\n",
       "walking                 0.972441                0.004264   \n",
       "climbing up the stairs  0.023622                0.978678   \n",
       "going down the stairs   0.003937                0.008529   \n",
       "sitting                 0.000000                0.008529   \n",
       "standing                0.000000                0.000000   \n",
       "laying                  0.000000                0.000000   \n",
       "\n",
       "                         going down the stairs   sitting  standing  laying  \n",
       "walking                                    0.0  0.000000  0.000000     0.0  \n",
       "climbing up the stairs                     0.0  0.000000  0.000000     0.0  \n",
       "going down the stairs                      1.0  0.002262  0.000000     0.0  \n",
       "sitting                                    0.0  0.963801  0.103565     0.0  \n",
       "standing                                   0.0  0.033937  0.877759     0.0  \n",
       "laying                                     0.0  0.000000  0.018676     1.0  "
      ]
     },
     "execution_count": 111,
     "metadata": {},
     "output_type": "execute_result"
    }
   ],
   "source": [
    "tab = pd.crosstab(y_test, y_pred, normalize='columns')\n",
    "tab.index = ['walking', 'climbing up the stairs', 'going down the stairs', 'sitting', 'standing', 'laying']\n",
    "tab.columns = ['walking', 'climbing up the stairs',' going down the stairs', 'sitting', 'standing', 'laying']\n",
    "tab\n",
    "\n",
    "# worst precising – standing"
   ]
  },
  {
   "cell_type": "markdown",
   "metadata": {},
   "source": [
    "**Question 8:** <br>\n",
    "Which activity type is worst detected by SVM in terms of precision? Recall?<br>\n",
    "\n",
    "**Answer options:**\n",
    "- precision – going up the stairs, recall – laying\n",
    "- precision – laying, recall – sitting\n",
    "- precision – walking, recall – walking\n",
    "- precision – standing, recall – sitting "
   ]
  },
  {
   "cell_type": "markdown",
   "metadata": {},
   "source": [
    "Finally, do the same thing as in Question 7, but add PCA.\n",
    "\n",
    "- Use `X_train_scaled` and` X_test_scaled`\n",
    "- Train the same PCA as before, on the scaled training set, apply scaling to the test set\n",
    "- Choose the hyperparameter `C` via cross-validation on the training set with PCA-transformation. You will notice how much faster it works now.\n",
    "\n",
    "**Question 9:** <br>\n",
    "What is the difference between the best quality (accuracy) for cross-validation in the case of all 561 initial characteristics and in the second case, when the principal component method was applied? Round to the nearest percent. <br>\n",
    "\n",
    "**Options:**\n",
    "- quality is the same\n",
    "- 2%\n",
    "- 4%\n",
    "- 10%\n",
    "- 20%"
   ]
  },
  {
   "cell_type": "code",
   "execution_count": 113,
   "metadata": {},
   "outputs": [],
   "source": [
    "pca = PCA(n_components=0.9, random_state=RANDOM_STATE)\n",
    "pca.fit(X_train_scaled)\n",
    "\n",
    "X_train_pca = pca.transform(X_train_scaled)\n",
    "X_test_pca = pca.transform(X_test_scaled)"
   ]
  },
  {
   "cell_type": "code",
   "execution_count": 114,
   "metadata": {},
   "outputs": [],
   "source": [
    "svc = LinearSVC(random_state=RANDOM_STATE)\n",
    "svc_params = {'C': [0.001, 0.01, 0.1, 1, 10]}"
   ]
  },
  {
   "cell_type": "code",
   "execution_count": 115,
   "metadata": {},
   "outputs": [
    {
     "name": "stderr",
     "output_type": "stream",
     "text": [
      "/opt/conda/lib/python3.6/site-packages/sklearn/svm/base.py:931: ConvergenceWarning: Liblinear failed to converge, increase the number of iterations.\n",
      "  \"the number of iterations.\", ConvergenceWarning)\n",
      "/opt/conda/lib/python3.6/site-packages/sklearn/svm/base.py:931: ConvergenceWarning: Liblinear failed to converge, increase the number of iterations.\n",
      "  \"the number of iterations.\", ConvergenceWarning)\n",
      "/opt/conda/lib/python3.6/site-packages/sklearn/svm/base.py:931: ConvergenceWarning: Liblinear failed to converge, increase the number of iterations.\n",
      "  \"the number of iterations.\", ConvergenceWarning)\n",
      "/opt/conda/lib/python3.6/site-packages/sklearn/svm/base.py:931: ConvergenceWarning: Liblinear failed to converge, increase the number of iterations.\n",
      "  \"the number of iterations.\", ConvergenceWarning)\n",
      "/opt/conda/lib/python3.6/site-packages/sklearn/svm/base.py:931: ConvergenceWarning: Liblinear failed to converge, increase the number of iterations.\n",
      "  \"the number of iterations.\", ConvergenceWarning)\n",
      "/opt/conda/lib/python3.6/site-packages/sklearn/svm/base.py:931: ConvergenceWarning: Liblinear failed to converge, increase the number of iterations.\n",
      "  \"the number of iterations.\", ConvergenceWarning)\n",
      "/opt/conda/lib/python3.6/site-packages/sklearn/svm/base.py:931: ConvergenceWarning: Liblinear failed to converge, increase the number of iterations.\n",
      "  \"the number of iterations.\", ConvergenceWarning)\n",
      "/opt/conda/lib/python3.6/site-packages/sklearn/svm/base.py:931: ConvergenceWarning: Liblinear failed to converge, increase the number of iterations.\n",
      "  \"the number of iterations.\", ConvergenceWarning)\n",
      "/opt/conda/lib/python3.6/site-packages/sklearn/svm/base.py:931: ConvergenceWarning: Liblinear failed to converge, increase the number of iterations.\n",
      "  \"the number of iterations.\", ConvergenceWarning)\n",
      "/opt/conda/lib/python3.6/site-packages/sklearn/svm/base.py:931: ConvergenceWarning: Liblinear failed to converge, increase the number of iterations.\n",
      "  \"the number of iterations.\", ConvergenceWarning)\n"
     ]
    },
    {
     "name": "stdout",
     "output_type": "stream",
     "text": [
      "CPU times: user 11.9 s, sys: 7.76 s, total: 19.7 s\n",
      "Wall time: 9.16 s\n"
     ]
    },
    {
     "name": "stderr",
     "output_type": "stream",
     "text": [
      "/opt/conda/lib/python3.6/site-packages/sklearn/svm/base.py:931: ConvergenceWarning: Liblinear failed to converge, increase the number of iterations.\n",
      "  \"the number of iterations.\", ConvergenceWarning)\n"
     ]
    }
   ],
   "source": [
    "%%time\n",
    "\n",
    "grid_svc = GridSearchCV(svc, svc_params, cv=3, scoring='accuracy')\n",
    "grid_svc.fit(X_train_pca, y_train)"
   ]
  },
  {
   "cell_type": "code",
   "execution_count": 116,
   "metadata": {},
   "outputs": [
    {
     "data": {
      "text/plain": [
       "({'C': 0.1}, 0.8983949945593036)"
      ]
     },
     "execution_count": 116,
     "metadata": {},
     "output_type": "execute_result"
    }
   ],
   "source": [
    "grid_svc.best_params_, grid_svc.best_score_"
   ]
  },
  {
   "cell_type": "markdown",
   "metadata": {},
   "source": [
    "**Question 10:** <br>\n",
    "Select all the correct statements:\n",
    "\n",
    "**Answer options:**\n",
    "- Principal component analysis in this case allowed to reduce the model training time, while the quality (mean cross-validation accuracy) suffered greatly, by more than 10%\n",
    "- PCA can be used to visualize data, but there are better methods for this task, for example, tSNE. However, PCA has lower computational complexity \n",
    "- PCA builds linear combinations of initial features, and in some applications they might be poorly interpreted by humans "
   ]
  }
 ],
 "metadata": {
  "anaconda-cloud": {},
  "kernelspec": {
   "display_name": "Python 3",
   "language": "python",
   "name": "python3"
  },
  "language_info": {
   "codemirror_mode": {
    "name": "ipython",
    "version": 3
   },
   "file_extension": ".py",
   "mimetype": "text/x-python",
   "name": "python",
   "nbconvert_exporter": "python",
   "pygments_lexer": "ipython3",
   "version": "3.6.6"
  }
 },
 "nbformat": 4,
 "nbformat_minor": 2
}
